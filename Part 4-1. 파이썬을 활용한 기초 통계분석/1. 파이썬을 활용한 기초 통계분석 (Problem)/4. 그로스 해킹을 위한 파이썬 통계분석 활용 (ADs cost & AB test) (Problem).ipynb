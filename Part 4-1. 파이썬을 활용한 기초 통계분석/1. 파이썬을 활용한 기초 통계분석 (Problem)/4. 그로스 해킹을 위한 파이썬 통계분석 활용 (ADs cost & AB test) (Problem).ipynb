{
 "cells": [
  {
   "cell_type": "code",
   "execution_count": 4,
   "metadata": {},
   "outputs": [],
   "source": [
    "import numpy as np\n",
    "import pandas as pd\n",
    "from scipy import stats"
   ]
  },
  {
   "cell_type": "markdown",
   "metadata": {},
   "source": [
    "<br>\n",
    "<br>\n",
    "\n",
    "## 1. Correlation Analysis for Marketing costs & User acquisition (with 피어슨 상관 계수)\n",
    "\n",
    "<br>\n",
    "\n",
    "- **매월 유튜브에 광고 비용을 지출하여 신규 유저(구매 고객 or 회원가입 고객)를 획득** \n",
    "- 아래의 ad_df DataFrame 과 같이 월별로 10,000원 단위의 유튜브 광고 비용과 해당 월에 신규로 획득된 유저 수가 측정되었다고 가정"
   ]
  },
  {
   "cell_type": "code",
   "execution_count": 184,
   "metadata": {},
   "outputs": [
    {
     "data": {
      "text/html": [
       "<div>\n",
       "<style scoped>\n",
       "    .dataframe tbody tr th:only-of-type {\n",
       "        vertical-align: middle;\n",
       "    }\n",
       "\n",
       "    .dataframe tbody tr th {\n",
       "        vertical-align: top;\n",
       "    }\n",
       "\n",
       "    .dataframe thead th {\n",
       "        text-align: right;\n",
       "    }\n",
       "</style>\n",
       "<table border=\"1\" class=\"dataframe\">\n",
       "  <thead>\n",
       "    <tr style=\"text-align: right;\">\n",
       "      <th></th>\n",
       "      <th>Marketing_Costs</th>\n",
       "      <th>User_Acquired</th>\n",
       "    </tr>\n",
       "  </thead>\n",
       "  <tbody>\n",
       "    <tr>\n",
       "      <th>0</th>\n",
       "      <td>352</td>\n",
       "      <td>7214</td>\n",
       "    </tr>\n",
       "    <tr>\n",
       "      <th>1</th>\n",
       "      <td>164</td>\n",
       "      <td>6122</td>\n",
       "    </tr>\n",
       "    <tr>\n",
       "      <th>2</th>\n",
       "      <td>210</td>\n",
       "      <td>6896</td>\n",
       "    </tr>\n",
       "    <tr>\n",
       "      <th>3</th>\n",
       "      <td>425</td>\n",
       "      <td>8020</td>\n",
       "    </tr>\n",
       "    <tr>\n",
       "      <th>4</th>\n",
       "      <td>503</td>\n",
       "      <td>10982</td>\n",
       "    </tr>\n",
       "    <tr>\n",
       "      <th>5</th>\n",
       "      <td>232</td>\n",
       "      <td>9021</td>\n",
       "    </tr>\n",
       "    <tr>\n",
       "      <th>6</th>\n",
       "      <td>321</td>\n",
       "      <td>9240</td>\n",
       "    </tr>\n",
       "    <tr>\n",
       "      <th>7</th>\n",
       "      <td>556</td>\n",
       "      <td>10210</td>\n",
       "    </tr>\n",
       "    <tr>\n",
       "      <th>8</th>\n",
       "      <td>464</td>\n",
       "      <td>9987</td>\n",
       "    </tr>\n",
       "    <tr>\n",
       "      <th>9</th>\n",
       "      <td>578</td>\n",
       "      <td>11521</td>\n",
       "    </tr>\n",
       "    <tr>\n",
       "      <th>10</th>\n",
       "      <td>612</td>\n",
       "      <td>9792</td>\n",
       "    </tr>\n",
       "    <tr>\n",
       "      <th>11</th>\n",
       "      <td>434</td>\n",
       "      <td>9852</td>\n",
       "    </tr>\n",
       "  </tbody>\n",
       "</table>\n",
       "</div>"
      ],
      "text/plain": [
       "    Marketing_Costs  User_Acquired\n",
       "0               352           7214\n",
       "1               164           6122\n",
       "2               210           6896\n",
       "3               425           8020\n",
       "4               503          10982\n",
       "5               232           9021\n",
       "6               321           9240\n",
       "7               556          10210\n",
       "8               464           9987\n",
       "9               578          11521\n",
       "10              612           9792\n",
       "11              434           9852"
      ]
     },
     "execution_count": 184,
     "metadata": {},
     "output_type": "execute_result"
    }
   ],
   "source": [
    "marketing_costs = [352, 164, 210, 425, 503, 232, 321, 556, 464, 578, 612, 434] # 집행된 유튜브 광고 비용 (단위 : 10,000원)\n",
    "user_acquired = [7214, 6122, 6896, 8020, 10982, 9021, 9240, 10210, 9987, 11521, 9792, 9852] # (단위 : 명)\n",
    "\n",
    "ad_df = pd.DataFrame({'Marketing_Costs':marketing_costs, \n",
    "                      'User_Acquired':user_acquired})\n",
    "ad_df"
   ]
  },
  {
   "cell_type": "markdown",
   "metadata": {},
   "source": [
    "#### 단순 CAC(Customer Acquisition Cost, 신규고객 유치 비용) 계산 (참고 : https://j.mp/35O5NRe)"
   ]
  },
  {
   "cell_type": "code",
   "execution_count": 188,
   "metadata": {},
   "outputs": [
    {
     "name": "stdout",
     "output_type": "stream",
     "text": [
      "1명의 신규 유저를 획득하기 위한 평균적인 유튜브 광고 비용 : 446원\n"
     ]
    }
   ],
   "source": [
    "cac = ad_df[?].?() / ad_df[?].?() # 총 마케팅 비용 / 총 신규고객 수\n",
    "\n",
    "print('1명의 신규 유저를 획득하기 위한 평균적인 유튜브 광고 비용 : {:.0f}원'.format(cac * 10000)) # .0f : 소수점 0번째 자리까지"
   ]
  },
  {
   "cell_type": "markdown",
   "metadata": {},
   "source": [
    "#### 위의 금액에 추가로 획득하기를 원하는 유저 수를 곱한 금액을 유튜브 광고 비용으로 쓰면 그만큼 유저가 늘어날까? \n",
    "#### == 위의 금액 만큼 유튜브 광고에 쓰면 정말로 유저가 1명 늘어날까?"
   ]
  },
  {
   "cell_type": "code",
   "execution_count": 174,
   "metadata": {},
   "outputs": [
    {
     "data": {
      "text/html": [
       "<div>\n",
       "<style scoped>\n",
       "    .dataframe tbody tr th:only-of-type {\n",
       "        vertical-align: middle;\n",
       "    }\n",
       "\n",
       "    .dataframe tbody tr th {\n",
       "        vertical-align: top;\n",
       "    }\n",
       "\n",
       "    .dataframe thead th {\n",
       "        text-align: right;\n",
       "    }\n",
       "</style>\n",
       "<table border=\"1\" class=\"dataframe\">\n",
       "  <thead>\n",
       "    <tr style=\"text-align: right;\">\n",
       "      <th></th>\n",
       "      <th>Marketing_Costs</th>\n",
       "      <th>User_Acquired</th>\n",
       "    </tr>\n",
       "  </thead>\n",
       "  <tbody>\n",
       "    <tr>\n",
       "      <th>Marketing_Costs</th>\n",
       "      <td>1.000000</td>\n",
       "      <td>0.803578</td>\n",
       "    </tr>\n",
       "    <tr>\n",
       "      <th>User_Acquired</th>\n",
       "      <td>0.803578</td>\n",
       "      <td>1.000000</td>\n",
       "    </tr>\n",
       "  </tbody>\n",
       "</table>\n",
       "</div>"
      ],
      "text/plain": [
       "                 Marketing_Costs  User_Acquired\n",
       "Marketing_Costs         1.000000       0.803578\n",
       "User_Acquired           0.803578       1.000000"
      ]
     },
     "execution_count": 174,
     "metadata": {},
     "output_type": "execute_result"
    }
   ],
   "source": [
    "ad_df.?() # DataFrame의 \"Corr\"elation 함수로는 p-value값까지 파악할 수 없음"
   ]
  },
  {
   "cell_type": "code",
   "execution_count": 187,
   "metadata": {},
   "outputs": [
    {
     "name": "stdout",
     "output_type": "stream",
     "text": [
      "피어슨 상관계수 : 0.8035775069546849\n",
      "p-value : 0.0016386012345537505\n"
     ]
    }
   ],
   "source": [
    "# Pearson correlation coefficient and p-value for testing non-correlation\n",
    "\n",
    "result = stats.?(ad_df['Marketing_Costs'], ad_df['User_Acquired']) # Pearson’s co\"r\"relation coefficient\n",
    "\n",
    "print(\"피어슨 상관계수 :\", result[0])\n",
    "print('p-value :', result[1])"
   ]
  },
  {
   "cell_type": "markdown",
   "metadata": {},
   "source": [
    "위 결과를 보았을 때 p-value가 0.0016(<0.05)이므로, \n",
    "<br>\n",
    "월별 유튜브 광고 비용과 신규 유저 수가 **통계적으로 유의미한 상관관계가 없다(상관계수==0)**는 전제 하에 이러한 측정 결과가 나올 확률이 **0.16%**라고 이해할 수 있음\n",
    "<br>\n",
    "<br>\n",
    "\n",
    "-> <span style='color:red;'><b>월별 유튜브 광고 비용과 신규 유저 수 사이에는 통계적으로 유의미한 강한 상관관계(+0.8)가 있다. </b></span> \n",
    "\n",
    "<br>\n",
    "<span style='color:gray;'> + 피어슨 상관계수 값에 대한 해석 기준 (Strong/Moderate/Weak) : <a href='https://j.mp/3mH8FWN'>https://j.mp/3mH8FWN</a> </span>\n",
    "\n",
    "<span style='color:gray;'> + 파이썬 프로그래밍 없이 상관관계 분석을 진행할 수 있는 도구 : https://j.mp/324551c </span>"
   ]
  },
  {
   "cell_type": "markdown",
   "metadata": {},
   "source": [
    "<br>\n",
    "<br>\n",
    "\n",
    "## 2. A/B Test for Duration Time (with 독립표본 t-test)\n",
    "\n",
    "<br>\n",
    "\n",
    "- 페이지 구성과 세부 디자인을 다르게 만든 2개의 웹사이트 시안을 기반으로 A/B Test 진행 \n",
    "- **웹사이트 시안 A와 B 각각에 유입된 유저들이 실제로 각 웹사이트 내에서 이탈하기까지의 시간(체류시간, Duration time)**을 측정 \n",
    "- 아래의 web_a & web_b DataFrame 과 같이 각 시안별로 유저들의 체류 시간이 측정되었다고 가정"
   ]
  },
  {
   "cell_type": "code",
   "execution_count": null,
   "metadata": {},
   "outputs": [],
   "source": [
    "web_a = pd.DataFrame([20.5, 12.6, 19.5, 18.8, 13.4, 13.5, 17.5, np.nan, 12.8, 17.8, np.nan, 23.1, 10.6, np.nan, 11.5], \n",
    "                     columns=['Duration_A'])\n",
    "web_b = pd.DataFrame([11.8, 10.7, np.nan, 12.5, np.nan, 14.9, 12.1, 13.9, 10.3, 9.0, 13.3, 12.4, 12.5], \n",
    "                     columns=['Duration_B'])"
   ]
  },
  {
   "cell_type": "code",
   "execution_count": 53,
   "metadata": {},
   "outputs": [
    {
     "data": {
      "text/html": [
       "<div>\n",
       "<style scoped>\n",
       "    .dataframe tbody tr th:only-of-type {\n",
       "        vertical-align: middle;\n",
       "    }\n",
       "\n",
       "    .dataframe tbody tr th {\n",
       "        vertical-align: top;\n",
       "    }\n",
       "\n",
       "    .dataframe thead th {\n",
       "        text-align: right;\n",
       "    }\n",
       "</style>\n",
       "<table border=\"1\" class=\"dataframe\">\n",
       "  <thead>\n",
       "    <tr style=\"text-align: right;\">\n",
       "      <th></th>\n",
       "      <th>Duration_A</th>\n",
       "      <th>Duration_B</th>\n",
       "    </tr>\n",
       "  </thead>\n",
       "  <tbody>\n",
       "    <tr>\n",
       "      <th>0</th>\n",
       "      <td>20.5</td>\n",
       "      <td>11.8</td>\n",
       "    </tr>\n",
       "    <tr>\n",
       "      <th>1</th>\n",
       "      <td>12.6</td>\n",
       "      <td>10.7</td>\n",
       "    </tr>\n",
       "    <tr>\n",
       "      <th>2</th>\n",
       "      <td>19.5</td>\n",
       "      <td>NaN</td>\n",
       "    </tr>\n",
       "    <tr>\n",
       "      <th>3</th>\n",
       "      <td>18.8</td>\n",
       "      <td>12.5</td>\n",
       "    </tr>\n",
       "    <tr>\n",
       "      <th>4</th>\n",
       "      <td>13.4</td>\n",
       "      <td>NaN</td>\n",
       "    </tr>\n",
       "    <tr>\n",
       "      <th>5</th>\n",
       "      <td>13.5</td>\n",
       "      <td>14.9</td>\n",
       "    </tr>\n",
       "    <tr>\n",
       "      <th>6</th>\n",
       "      <td>17.5</td>\n",
       "      <td>12.1</td>\n",
       "    </tr>\n",
       "    <tr>\n",
       "      <th>7</th>\n",
       "      <td>NaN</td>\n",
       "      <td>13.9</td>\n",
       "    </tr>\n",
       "    <tr>\n",
       "      <th>8</th>\n",
       "      <td>12.8</td>\n",
       "      <td>10.3</td>\n",
       "    </tr>\n",
       "    <tr>\n",
       "      <th>9</th>\n",
       "      <td>17.8</td>\n",
       "      <td>9.0</td>\n",
       "    </tr>\n",
       "    <tr>\n",
       "      <th>10</th>\n",
       "      <td>NaN</td>\n",
       "      <td>13.3</td>\n",
       "    </tr>\n",
       "    <tr>\n",
       "      <th>11</th>\n",
       "      <td>23.1</td>\n",
       "      <td>12.4</td>\n",
       "    </tr>\n",
       "    <tr>\n",
       "      <th>12</th>\n",
       "      <td>10.6</td>\n",
       "      <td>12.5</td>\n",
       "    </tr>\n",
       "    <tr>\n",
       "      <th>13</th>\n",
       "      <td>NaN</td>\n",
       "      <td>NaN</td>\n",
       "    </tr>\n",
       "    <tr>\n",
       "      <th>14</th>\n",
       "      <td>11.5</td>\n",
       "      <td>NaN</td>\n",
       "    </tr>\n",
       "  </tbody>\n",
       "</table>\n",
       "</div>"
      ],
      "text/plain": [
       "    Duration_A  Duration_B\n",
       "0         20.5        11.8\n",
       "1         12.6        10.7\n",
       "2         19.5         NaN\n",
       "3         18.8        12.5\n",
       "4         13.4         NaN\n",
       "5         13.5        14.9\n",
       "6         17.5        12.1\n",
       "7          NaN        13.9\n",
       "8         12.8        10.3\n",
       "9         17.8         9.0\n",
       "10         NaN        13.3\n",
       "11        23.1        12.4\n",
       "12        10.6        12.5\n",
       "13         NaN         NaN\n",
       "14        11.5         NaN"
      ]
     },
     "execution_count": 53,
     "metadata": {},
     "output_type": "execute_result"
    }
   ],
   "source": [
    "pd.?([web_a, web_b], axis=1) # Concatenate"
   ]
  },
  {
   "cell_type": "code",
   "execution_count": 54,
   "metadata": {
    "scrolled": false
   },
   "outputs": [
    {
     "name": "stdout",
     "output_type": "stream",
     "text": [
      "Duration_A    15.966667\n",
      "dtype: float64\n",
      "Duration_B    12.127273\n",
      "dtype: float64\n"
     ]
    }
   ],
   "source": [
    "print(web_a.?()) # 웹사이트 시안 A에 대한 유저들의 \"평균\" 체류시간\n",
    "print(web_b.?()) # 웹사이트 시안 B에 대한 유저들의 \"평균\" 체류시간"
   ]
  },
  {
   "cell_type": "markdown",
   "metadata": {},
   "source": [
    "#### 위의 웹사이트 시안 A/B 간 평균 체류시간의 차이가 우연의 일치였을까?"
   ]
  },
  {
   "cell_type": "code",
   "execution_count": 55,
   "metadata": {},
   "outputs": [],
   "source": [
    "# t-test를 진행하기 이전에 null(np.nan, N/A)인 데이터들은 제외시켜줘야 합니다.\n",
    "\n",
    "web_a = web_a.?() # DataFrame에서 N/A 데이터(missing data)가 포함된 행들을 떨궈(drop)낸다.\n",
    "web_b = web_b.?() "
   ]
  },
  {
   "cell_type": "code",
   "execution_count": 57,
   "metadata": {},
   "outputs": [
    {
     "data": {
      "text/plain": [
       "Ttest_indResult(statistic=3.0165632092150694, pvalue=0.008734970056646718)"
      ]
     },
     "execution_count": 57,
     "metadata": {},
     "output_type": "execute_result"
    }
   ],
   "source": [
    "# 독립표본 t-test (두 집단간의 평균차이를 검정)\n",
    "\n",
    "# T-test for \"ind\"ependent samples\n",
    "stats.?(web_a[\"Duration_A\"].?, # 해당 열의 '값들'\n",
    "                web_b[\"Duration_B\"].?, # 해당 열의 '값들'\n",
    "                equal_var=False)\n",
    "\n",
    "# equal_var=True : perform a standard independent 2 sample test that assumes equal population variances.\n",
    "# equal_var=False : perform Welch's t-test, which does not assume equal population variance.\n",
    "# -> 위 2개의 체류시간 측정 그룹(샘플)이 동일한 수(샘플 사이즈)가 아니거나 유사한 분산값을 갖지 않을 경우 Welch's t-test를 사용 (https://j.mp/3kLFwcE)\n",
    "# 두 샘플 그룹 간 분산값 차이 확인 : print(web_a.var(), web_b.var())"
   ]
  },
  {
   "cell_type": "markdown",
   "metadata": {},
   "source": [
    "위 결과를 보았을 때 p-value가 0.0087(<0.05)이므로, \n",
    "<br>\n",
    "웹 시안 A와 B에 대한 체류시간의 평균값이 **통계적으로 유의미한 차이가 없다**는 전제 하에 이러한 체류시간 측정 결과가 나올 확률이 **0.87%**라고 이해할 수 있음\n",
    "<br>\n",
    "<br>\n",
    "\n",
    "-> <span style='color:red;'><b>웹 시안 A와 B에 대한 유저들의 체류 시간 사이에는 통계적으로 유의미한 차이가 있다</b></span> (A가 평균적으로 더 오래 체류하게끔 함)\n",
    "\n",
    "<br>\n",
    "<span style='color:gray;'> + 파이썬 프로그래밍 없이 t-test를 진행할 수 있는 각종 도구 : https://j.mp/34O9yaa / https://j.mp/381BVni </span>"
   ]
  },
  {
   "cell_type": "markdown",
   "metadata": {},
   "source": [
    "<br>\n",
    "<br>\n",
    "\n",
    "## 3. A/B Test for Click-Through Rate or Conversion Rate (with 카이제곱 검정)\n",
    "\n",
    "<br>\n",
    "\n",
    "- **최종 구매를 위한 버튼(혹은 광고 배너)**을 2개의 서로 다른 시안으로 제작해 각기 다른 유저들에게 노출 \n",
    "- 해당 버튼을 누르면 **구매가 확정(랜딩 페이지로 연결)**된다고 가정 \n",
    "<br>\n",
    "\n",
    "- **Conversion rate (전환율)** : a metric, shown as a percentage, that displays **how many website or app visitors complete an action** out of the total number of visitors.\n",
    "- **Click-Through Rate (CTR, 클릭율)** : a metric, shown as a percentage, that measures **how many people clicked your ad** to visit a website or landing page.\n",
    "<br>\n",
    "\n",
    "- 시안 A/B별로 아래 click_df DataFrame과 같이 클릭 수 & (유저에게 노출되었으나) 미클릭 수가 측정되었다고 가정 "
   ]
  },
  {
   "cell_type": "code",
   "execution_count": 78,
   "metadata": {
    "scrolled": true
   },
   "outputs": [
    {
     "data": {
      "text/html": [
       "<div>\n",
       "<style scoped>\n",
       "    .dataframe tbody tr th:only-of-type {\n",
       "        vertical-align: middle;\n",
       "    }\n",
       "\n",
       "    .dataframe tbody tr th {\n",
       "        vertical-align: top;\n",
       "    }\n",
       "\n",
       "    .dataframe thead th {\n",
       "        text-align: right;\n",
       "    }\n",
       "</style>\n",
       "<table border=\"1\" class=\"dataframe\">\n",
       "  <thead>\n",
       "    <tr style=\"text-align: right;\">\n",
       "      <th></th>\n",
       "      <th>Clicked</th>\n",
       "      <th>Unclicked</th>\n",
       "    </tr>\n",
       "  </thead>\n",
       "  <tbody>\n",
       "    <tr>\n",
       "      <th>Button_A</th>\n",
       "      <td>144</td>\n",
       "      <td>2362</td>\n",
       "    </tr>\n",
       "    <tr>\n",
       "      <th>Button_B</th>\n",
       "      <td>212</td>\n",
       "      <td>2528</td>\n",
       "    </tr>\n",
       "  </tbody>\n",
       "</table>\n",
       "</div>"
      ],
      "text/plain": [
       "          Clicked  Unclicked\n",
       "Button_A      144       2362\n",
       "Button_B      212       2528"
      ]
     },
     "execution_count": 78,
     "metadata": {},
     "output_type": "execute_result"
    }
   ],
   "source": [
    "a_clicked = 144 # 버튼(배너) 시안 A를 누른 유저의 수\n",
    "a_unclicked = 2362 # 버튼(배너) 시안 A를 보았으나 누르지 않은 유저의 수\n",
    "\n",
    "b_clicked = 212 # 버튼(배너) 시안 B를 누른 유저의 수\n",
    "b_unclicked = 2528 # 버튼(배너) 시안 B를 보았으나 누르지 않은 유저의 수\n",
    "\n",
    "click_df = pd.DataFrame({'Clicked':[a_clicked, b_clicked], \n",
    "                         'Unclicked':[a_unclicked, b_unclicked]}, index=['Button_A', 'Button_B'])\n",
    "click_df"
   ]
  },
  {
   "cell_type": "code",
   "execution_count": 92,
   "metadata": {
    "scrolled": true
   },
   "outputs": [
    {
     "name": "stdout",
     "output_type": "stream",
     "text": [
      "Button(or Banner Ad) A's Conversion Rate(or CTR) is : 5.75%\n",
      "Button(or Banner Ad) B's Conversion Rate(or CTR) is : 7.74%\n"
     ]
    }
   ],
   "source": [
    "# 단순한 전환율 및 클릭율 계산 \n",
    "# : 실제 클릭 수 / 전체 노출 수 * 100\n",
    "\n",
    "conversion_rate = click_df[?] / (click_df[?] + click_df[?]) * 100\n",
    "# print(conversion_rate)\n",
    "\n",
    "print(\"Button(or Banner Ad) A's Conversion Rate(or CTR) is : {:0.2f}%\".format(conversion_rate[0]))\n",
    "print(\"Button(or Banner Ad) B's Conversion Rate(or CTR) is : {:0.2f}%\".format(conversion_rate[1]))"
   ]
  },
  {
   "cell_type": "markdown",
   "metadata": {},
   "source": [
    "#### 위의 버튼(배너) A/B 간 전환율(클릭율) 차이가 우연의 일치였을까?"
   ]
  },
  {
   "cell_type": "code",
   "execution_count": 87,
   "metadata": {},
   "outputs": [
    {
     "data": {
      "text/html": [
       "<div>\n",
       "<style scoped>\n",
       "    .dataframe tbody tr th:only-of-type {\n",
       "        vertical-align: middle;\n",
       "    }\n",
       "\n",
       "    .dataframe tbody tr th {\n",
       "        vertical-align: top;\n",
       "    }\n",
       "\n",
       "    .dataframe thead th {\n",
       "        text-align: right;\n",
       "    }\n",
       "</style>\n",
       "<table border=\"1\" class=\"dataframe\">\n",
       "  <thead>\n",
       "    <tr style=\"text-align: right;\">\n",
       "      <th></th>\n",
       "      <th>Clicked</th>\n",
       "      <th>Unclicked</th>\n",
       "    </tr>\n",
       "  </thead>\n",
       "  <tbody>\n",
       "    <tr>\n",
       "      <th>Button_A</th>\n",
       "      <td>144</td>\n",
       "      <td>2362</td>\n",
       "    </tr>\n",
       "    <tr>\n",
       "      <th>Button_B</th>\n",
       "      <td>212</td>\n",
       "      <td>2528</td>\n",
       "    </tr>\n",
       "  </tbody>\n",
       "</table>\n",
       "</div>"
      ],
      "text/plain": [
       "          Clicked  Unclicked\n",
       "Button_A      144       2362\n",
       "Button_B      212       2528"
      ]
     },
     "execution_count": 87,
     "metadata": {},
     "output_type": "execute_result"
    }
   ],
   "source": [
    "click_df "
   ]
  },
  {
   "cell_type": "markdown",
   "metadata": {},
   "source": [
    "#### - 위와 같이 데이터가 정리된 표를 Contingency table(분할표)이라고 부릅니다. (참고 : https://j.mp/384CcFR)\n",
    "\n",
    "#### - chi2_**contingency** 함수를 활용하면 위와 같은 Contingency table을 기반으로 카이제곱 검정을 할 수 있습니다. (참고 : https://j.mp/3mH1Nsr)\n",
    "<br>\n",
    "\n",
    "- Button_A -> 남자, Button_B -> 여자, Clicked -> 제품 A 구매자 수, Unclicked -> 제품 A 미구매자 수일 경우,\n",
    "- 위 Contingency table는 **남녀 각각에 대한 제품 A의 구매자 수와 미구매자 수**에 대한 데이터가 됩니다. \n",
    "- 이 때 chi2_contingency 함수에는 **구매자 수 열**과 **미구매자 수 열**을 차례대로 넘겨줘야 합니다. (제품 A 구매 여부와 성별에 대한 연관성 분석)"
   ]
  },
  {
   "cell_type": "code",
   "execution_count": 106,
   "metadata": {},
   "outputs": [
    {
     "data": {
      "text/plain": [
       "0.004968535119697213"
      ]
     },
     "execution_count": 106,
     "metadata": {},
     "output_type": "execute_result"
    }
   ],
   "source": [
    "# \"Chi-square\" test of independence of variables in a \"contingency\" table.\n",
    "\n",
    "stats.?([click_df['Clicked'], click_df['Unclicked']])[1] # 2번째 return 값이 p-value에 해당"
   ]
  },
  {
   "cell_type": "markdown",
   "metadata": {},
   "source": [
    "위 결과를 보았을 때 p-value가 0.0049(<0.05)이므로, \n",
    "<br>\n",
    "**버튼 A/B**(범주형 변수 1)에 대한 **클릭 여부**(범주형 변수 2)가 **통계적으로 유의미한 연관성이 없다(서로 독립적이다)**는 전제 하에, <br>이러한 클릭 수 측정 결과가 나올 확률이 **0.49%**라고 이해할 수 있음\n",
    "<br>\n",
    "<br>\n",
    "\n",
    "-> <span style='color:red;'><b>버튼(배너) 시안 A와 B에 대한 유저들의 클릭 수 사이에는 통계적으로 유의미한 차이가 있다</b></span> (버튼(배너) B가 더 많은 클릭을 유도함)\n",
    "\n",
    "<br>\n",
    "<span style='color:gray;'> + 파이썬 프로그래밍 없이 분할표를 기반으로 한 카이제곱 검정을 진행할 수 있는 도구 : https://j.mp/3efVGbx / Optimizely (UI 기반 A/B test tool) @ https://goo.gl/uh9P9A </span>"
   ]
  },
  {
   "cell_type": "markdown",
   "metadata": {},
   "source": [
    "<br>\n",
    "<br>\n",
    "\n",
    "### + 추가 학습 자료 \n",
    "\n",
    "<br>\n",
    "\n",
    "#### - A/B Testing에 대한 기초적인 정보들 (정의/효과/사례/샘플크기산정 등) @ https://j.mp/3eeo2TA\n",
    "#### - 데이터를 활용한 디지털 마케팅 효과분석 (부스트코스, A/B테스트 / GA / 엑셀통계분석) @ https://j.mp/2P7YHCO\n",
    "#### - P-hacking에 대하여 @ https://j.mp/3mLMOgP / https://j.mp/31XJBTF\n",
    "\n",
    "<br>\n",
    "\n",
    "#### - [통계학 기초] 통알못을 위한 통계튜브 (통통튜브) @ https://bit.ly/36xdcsJ\n",
    "#### - [통계학 기초] Statistics Fundamentals (StatQuest) @ https://bit.ly/3iKzyt0\n",
    "\n",
    "<br>\n",
    "<hr style='border-top: 2px solid black;'>\n",
    "\n",
    "\n",
    "- p-value의 높고 낮음과 별개로 실제 실험의 효과 크기 역시도 중요하게 고려해야한다. <br>예를 들어 어떤 웹사이트의 구매 버튼의 디자인을 변경하여 구매 수가 n 만큼 증가되었고,<br> 디자인 변경 전/후에 대한 구매 버튼 클릭 수 사이의 관계를 대상으로 통계 검정 후 p-value가 0.05보다 낮게 나왔더라도,<br> <b>정작 증가된 구매 수에 해당하는 n이 미미하다면 낮은 p-value에도 불구하고 디자인 변경의 실질적인 효용이 적기 때문</b>이다.<br> (통계적으로만 유의미할 뿐 독립변수의 변화에 따른 종속변수의 변화값이 실질적/실용적인 의미를 갖지 않음)\n",
    "<br>\n"
   ]
  },
  {
   "cell_type": "code",
   "execution_count": null,
   "metadata": {},
   "outputs": [],
   "source": []
  }
 ],
 "metadata": {
  "kernelspec": {
   "display_name": "Python 3",
   "language": "python",
   "name": "python3"
  },
  "language_info": {
   "codemirror_mode": {
    "name": "ipython",
    "version": 3
   },
   "file_extension": ".py",
   "mimetype": "text/x-python",
   "name": "python",
   "nbconvert_exporter": "python",
   "pygments_lexer": "ipython3",
   "version": "3.8.8"
  }
 },
 "nbformat": 4,
 "nbformat_minor": 2
}
